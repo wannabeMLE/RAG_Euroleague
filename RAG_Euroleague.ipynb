{
 "cells": [
  {
   "cell_type": "code",
   "execution_count": 1,
   "metadata": {},
   "outputs": [
    {
     "name": "stdout",
     "output_type": "stream",
     "text": [
      "Status Code: 200\n",
      "Response Length: 39228\n"
     ]
    }
   ],
   "source": [
    "import requests\n",
    "\n",
    "url = \"https://www.dunkest.com/en/euroleague/stats/teams/defense-vs-position/season/2024-2025?season_id=17&stats_id=4&position_id=1&sort_by=all&sort_order=desc\"\n",
    "\n",
    "headers = {\n",
    "    \"User-Agent\": \"Mozilla/5.0 (Windows NT 10.0; Win64; x64) AppleWebKit/537.36 (KHTML, like Gecko) Chrome/110.0.0.0 Safari/537.36\"\n",
    "}\n",
    "\n",
    "response = requests.get(url, headers=headers)\n",
    "\n",
    "print(\"Status Code:\", response.status_code)\n",
    "print(\"Response Length:\", len(response.text))  # Check if it's a valid page\n"
   ]
  },
  {
   "cell_type": "code",
   "execution_count": 2,
   "metadata": {},
   "outputs": [
    {
     "name": "stdout",
     "output_type": "stream",
     "text": [
      "<!DOCTYPE html>\n",
      "<html lang=\"en\">\n",
      " <head>\n",
      "  <!-- Meta tags -->\n",
      "  <meta charset=\"utf-8\"/>\n",
      "  <meta content=\"width=device-width, initial-scale=1, shrink-to-fit=no\" name=\"viewport\"/>\n",
      "  <title>\n",
      "   Euroleague Defense VS Position - Season 2024/25 | Dunkest\n",
      "  </title>\n",
      "  <meta content=\"Defense VS Position Euroleague. View the average stats and fantasy points allowed by each Euroleague team by position, Season 2024-2025.\" name=\"description\"/>\n",
      "  <!-- Multilingual Meta Tags -->\n",
      "  <link href=\"https://www.dunkest.com/it/eurolega/statistiche/squadre/difesa-vs-posizione/season/2024-2025\" hreflang=\"it\" rel=\"alternate\"/>\n",
      "  <link href=\"https://www.dunkest.com/en/euroleague/stats/teams/defense-vs-position/season/2024-2025\" hreflang=\"en\" rel=\"alternate\"/>\n",
      "  <!-- Meta Tag Canonical -->\n",
      "  <link href=\"https://www.dunkest.com/en/euroleague/stats/teams/defense-vs-position/season/2024-2025\" rel=\"canonical\"/>\n",
      "  <!-- OG Meta Tags -->\n",
      "  <meta content=\"Euroleague Defense VS Position - Season 2024/25 | Dunkest\" proper\n",
      "✅ Table Found!\n"
     ]
    }
   ],
   "source": [
    "from bs4 import BeautifulSoup\n",
    "\n",
    "soup = BeautifulSoup(response.text, \"html.parser\")\n",
    "\n",
    "# Print the first 1000 characters to inspect\n",
    "print(soup.prettify()[:1000])\n",
    "\n",
    "# Try finding the table\n",
    "table = soup.find(\"table\")  # Check if table is found\n",
    "if table:\n",
    "    print(\"✅ Table Found!\")\n",
    "else:\n",
    "    print(\"⚠️ Table Not Found!\")\n"
   ]
  },
  {
   "cell_type": "code",
   "execution_count": 3,
   "metadata": {},
   "outputs": [
    {
     "name": "stdout",
     "output_type": "stream",
     "text": [
      "📊 Raw Table HTML:\n",
      " <table class=\"table table--stats\">\n",
      " <thead id=\"statsTableHead\">\n",
      " </thead>\n",
      " <tbody id=\"statsTableBody\">\n",
      " </tbody>\n",
      "</table>\n",
      "\n"
     ]
    }
   ],
   "source": [
    "print(\"📊 Raw Table HTML:\\n\", table.prettify()[:2000])  # Print first 2000 characters\n",
    "\n"
   ]
  },
  {
   "cell_type": "code",
   "execution_count": 4,
   "metadata": {},
   "outputs": [
    {
     "name": "stdout",
     "output_type": "stream",
     "text": [
      "\n",
      "🔍 Loading webpage for Guard...\n",
      "\n",
      "\n",
      "🔍 Loading webpage for Forward...\n",
      "\n",
      "\n",
      "🔍 Loading webpage for Center...\n",
      "\n",
      "✅ Webpages loaded successfully!\n"
     ]
    }
   ],
   "source": [
    "from selenium import webdriver\n",
    "from selenium.webdriver.chrome.service import Service\n",
    "from selenium.webdriver.chrome.options import Options\n",
    "from webdriver_manager.chrome import ChromeDriverManager\n",
    "import time\n",
    "\n",
    "# ✅ Define positions and corresponding URL parameters\n",
    "positions = {\n",
    "    1: \"Guard\",\n",
    "    2: \"Forward\",\n",
    "    3: \"Center\"\n",
    "}\n",
    "\n",
    "# ✅ Set up Selenium WebDriver\n",
    "options = Options()\n",
    "options.headless = True  # Run in headless mode (no browser window)\n",
    "driver = webdriver.Chrome(service=Service(ChromeDriverManager().install()), options=options)\n",
    "\n",
    "# ✅ Initialize an empty dictionary to store soup objects for each position\n",
    "soups = {}\n",
    "\n",
    "for position_id, position_name in positions.items():\n",
    "    print(f\"\\n🔍 Loading webpage for {position_name}...\\n\")\n",
    "\n",
    "    # ✅ Load the webpage\n",
    "    url = f\"https://www.dunkest.com/en/euroleague/stats/teams/defense-vs-position/season/2024-2025?season_id=17&stats_id=4&position_id={position_id}&sort_by=all&sort_order=desc\"\n",
    "    driver.get(url)\n",
    "\n",
    "    # ✅ Wait for JavaScript to load\n",
    "    time.sleep(5)\n",
    "\n",
    "    # ✅ Store the parsed page source in the dictionary\n",
    "    from bs4 import BeautifulSoup\n",
    "    soups[position_name] = BeautifulSoup(driver.page_source, \"html.parser\")\n",
    "\n",
    "print(\"✅ Webpages loaded successfully!\")\n"
   ]
  },
  {
   "cell_type": "code",
   "execution_count": 5,
   "metadata": {},
   "outputs": [
    {
     "name": "stdout",
     "output_type": "stream",
     "text": [
      "✅ Table found for Guard!\n",
      "✅ Table found for Forward!\n",
      "✅ Table found for Center!\n"
     ]
    }
   ],
   "source": [
    "# ✅ Initialize a dictionary to store extracted tables\n",
    "tables = {}\n",
    "\n",
    "for position_name, soup in soups.items():\n",
    "    # ✅ Locate the table\n",
    "    table = soup.find(\"table\", class_=\"table table--stats\")\n",
    "\n",
    "    if table:\n",
    "        tables[position_name] = table\n",
    "        print(f\"✅ Table found for {position_name}!\")\n",
    "    else:\n",
    "        print(f\"❌ Table NOT found for {position_name}. Check website structure.\")\n"
   ]
  },
  {
   "cell_type": "code",
   "execution_count": 6,
   "metadata": {},
   "outputs": [
    {
     "name": "stdout",
     "output_type": "stream",
     "text": [
      "📊 Headers for Guard: ['#', 'Team', 'L3', 'L5', 'L10', 'ALL', 'Position']\n",
      "📊 Headers for Forward: ['#', 'Team', 'L3', 'L5', 'L10', 'ALL', 'Position']\n",
      "📊 Headers for Center: ['#', 'Team', 'L3', 'L5', 'L10', 'ALL', 'Position']\n"
     ]
    }
   ],
   "source": [
    "# ✅ Extract headers from the tables\n",
    "headers = None  # Store headers once to use for all positions\n",
    "\n",
    "for position_name, table in tables.items():\n",
    "    # ✅ Extract headers if not already done\n",
    "    if headers is None:\n",
    "        extracted_headers = [th.text.strip() for th in table.find_all(\"th\")]\n",
    "\n",
    "        # ✅ Keep only relevant columns (ignore ranking numbers 1-18)\n",
    "        valid_columns = [\"#\", \"Team\", \"L3\", \"L5\", \"L10\", \"ALL\"]\n",
    "        headers = [col for col in extracted_headers if col in valid_columns]\n",
    "        headers.append(\"Position\")  # ✅ Add \"Position\" column\n",
    "\n",
    "    print(f\"📊 Headers for {position_name}: {headers}\")\n"
   ]
  },
  {
   "cell_type": "code",
   "execution_count": 7,
   "metadata": {},
   "outputs": [
    {
     "name": "stdout",
     "output_type": "stream",
     "text": [
      "📊 Sample data for Guard: [['Guard'], ['EA7 Emporio Armani Milan', '14.3', '13.9', '11.6', '12.7', 'Guard'], ['Virtus Segafredo Bologna', '14.4', '13.5', '12.8', '12.5', 'Guard']]\n",
      "📊 Sample data for Forward: [['Forward'], ['FC Bayern Munich', '10.0', '9.0', '12.1', '12.4', 'Forward'], ['Maccabi Playtika Tel Aviv', '11.5', '11.9', '12.8', '12.1', 'Forward']]\n",
      "📊 Sample data for Center: [['Center'], ['Crvena Zvezda Meridianbet Belgrade', '11.0', '10.0', '12.6', '12.1', 'Center'], ['Paris Basketball', '10.0', '9.3', '11.1', '12.0', 'Center']]\n"
     ]
    }
   ],
   "source": [
    "# ✅ Initialize a dictionary to store rows for each position\n",
    "position_rows = {}\n",
    "\n",
    "for position_name, table in tables.items():\n",
    "    rows = []\n",
    "    \n",
    "    for tr in table.find_all(\"tr\"):  # ✅ Extract rows\n",
    "        cols = [td.text.strip() for td in tr.find_all(\"td\")]\n",
    "\n",
    "  \n",
    "        cols.append(position_name)  # ✅ Add position\n",
    "        rows.append(cols)\n",
    "\n",
    "    position_rows[position_name] = rows\n",
    "\n",
    "    print(f\"📊 Sample data for {position_name}: {rows[:3]}\")  # Print first 3 rows\n"
   ]
  },
  {
   "cell_type": "code",
   "execution_count": 8,
   "metadata": {},
   "outputs": [
    {
     "name": "stdout",
     "output_type": "stream",
     "text": [
      "                                  Team    L3    L5   L10   ALL Position\n",
      "0                                Guard  None  None  None  None     None\n",
      "1             EA7 Emporio Armani Milan  14.3  13.9  11.6  12.7    Guard\n",
      "2             Virtus Segafredo Bologna  14.4  13.5  12.8  12.5    Guard\n",
      "3                         FC Barcelona  13.0  12.7  12.2  12.4    Guard\n",
      "4             Baskonia Vitoria-Gasteiz  12.7  13.3  13.0  12.3    Guard\n",
      "5                          Real Madrid  10.6  10.9  11.6  12.1    Guard\n",
      "6            Maccabi Playtika Tel Aviv  11.1  10.1  11.8  12.0    Guard\n",
      "7                          ALBA Berlin   6.5  11.2  11.4  11.9    Guard\n",
      "8              LDLC ASVEL Villeurbanne  11.2  12.1  11.3  11.8    Guard\n",
      "9             Fenerbahce Beko Istanbul  10.6  10.8  11.6  11.7    Guard\n",
      "10                    Paris Basketball  12.9  11.9  12.5  11.7    Guard\n",
      "11                    FC Bayern Munich  11.3  12.0  12.4  11.6    Guard\n",
      "12                     Zalgiris Kaunas   9.3  13.1  12.3  11.6    Guard\n",
      "13                  Olympiacos Piraeus  12.3  12.4  11.0  11.5    Guard\n",
      "14               Anadolu Efes Istanbul  11.4  10.6  11.6  11.1    Guard\n",
      "15  Crvena Zvezda Meridianbet Belgrade  11.9  11.9  10.2  10.8    Guard\n",
      "16       Partizan Mozzart Bet Belgrade  10.3  11.5  11.1  10.7    Guard\n",
      "17                           AS Monaco   8.4   9.2  10.8  10.7    Guard\n",
      "18          Panathinaikos AKTOR Athens  12.6  11.1  10.5  10.6    Guard\n",
      "19                             Forward  None  None  None  None     None\n",
      "20                    FC Bayern Munich  10.0   9.0  12.1  12.4  Forward\n",
      "21           Maccabi Playtika Tel Aviv  11.5  11.9  12.8  12.1  Forward\n",
      "22       Partizan Mozzart Bet Belgrade  12.5  11.0  11.5  12.1  Forward\n",
      "23          Panathinaikos AKTOR Athens  12.9  13.1  14.7  12.0  Forward\n",
      "24                         ALBA Berlin  12.9  11.5  11.7  11.8  Forward\n",
      "25                    Paris Basketball   9.8  12.2  11.2  11.6  Forward\n",
      "26                           AS Monaco  14.1  12.4  11.9  11.4  Forward\n",
      "27            Virtus Segafredo Bologna  10.2  10.1  10.2  11.1  Forward\n",
      "28            Baskonia Vitoria-Gasteiz  11.3  11.3  11.3  10.7  Forward\n",
      "29                         Real Madrid  11.3  12.2  11.0  10.5  Forward\n",
      "30             LDLC ASVEL Villeurbanne  10.0  10.3  10.2  10.5  Forward\n",
      "31                     Zalgiris Kaunas  13.0  10.7  12.0  10.5  Forward\n",
      "32                        FC Barcelona  14.1  12.9  11.3  10.4  Forward\n",
      "33            Fenerbahce Beko Istanbul  12.0  13.6  11.1  10.2  Forward\n",
      "34                  Olympiacos Piraeus   8.0   9.0  10.5  10.1  Forward\n",
      "35               Anadolu Efes Istanbul  11.9  12.6  11.1  10.1  Forward\n",
      "36            EA7 Emporio Armani Milan   7.4   8.6   9.5  10.0  Forward\n",
      "37  Crvena Zvezda Meridianbet Belgrade   7.0   7.5   8.9   9.4  Forward\n",
      "38                              Center  None  None  None  None     None\n",
      "39  Crvena Zvezda Meridianbet Belgrade  11.0  10.0  12.6  12.1   Center\n",
      "40                    Paris Basketball  10.0   9.3  11.1  12.0   Center\n",
      "41             LDLC ASVEL Villeurbanne   6.3   8.2  10.8  11.2   Center\n",
      "42               Anadolu Efes Istanbul   6.0   6.3   6.3  11.1   Center\n",
      "43            EA7 Emporio Armani Milan   9.5   8.3  11.5  11.0   Center\n",
      "44                           AS Monaco  14.0  13.0  12.9  10.9   Center\n",
      "45            Baskonia Vitoria-Gasteiz   9.8  10.6  11.3  10.8   Center\n",
      "46          Panathinaikos AKTOR Athens  11.5  10.5  12.3  10.8   Center\n",
      "47                    FC Bayern Munich   8.0   8.7   7.7  10.6   Center\n",
      "48                         Real Madrid  16.0  11.6  12.1  10.6   Center\n",
      "49           Maccabi Playtika Tel Aviv  12.3  11.5   8.0  10.5   Center\n",
      "50                         ALBA Berlin   9.3   8.3   9.3  10.4   Center\n",
      "51       Partizan Mozzart Bet Belgrade   9.0  11.5  11.3  10.4   Center\n",
      "52            Virtus Segafredo Bologna   9.8  10.1  11.3  10.2   Center\n",
      "53                  Olympiacos Piraeus  12.0  11.4  10.2   9.9   Center\n",
      "54            Fenerbahce Beko Istanbul   5.8   6.2   6.3   9.8   Center\n",
      "55                     Zalgiris Kaunas   7.5  10.8   9.7   9.3   Center\n",
      "56                        FC Barcelona   4.5  10.5  10.0   9.1   Center\n"
     ]
    }
   ],
   "source": [
    "import pandas as pd\n",
    "\n",
    "# ✅ Define correct headers\n",
    "headers = [\"Team\", \"L3\", \"L5\", \"L10\", \"ALL\", \"Position\"]\n",
    "\n",
    "# ✅ Combine all position data into a single list\n",
    "all_rows = []\n",
    "for position, rows in position_rows.items():\n",
    "    all_rows.extend(rows)\n",
    "\n",
    "# ✅ Convert to Pandas DataFrame\n",
    "df = pd.DataFrame(all_rows, columns=headers)\n",
    "\n",
    "# ✅ Display DataFrame\n",
    "print(df)\n"
   ]
  },
  {
   "cell_type": "code",
   "execution_count": 16,
   "metadata": {},
   "outputs": [
    {
     "name": "stdout",
     "output_type": "stream",
     "text": [
      "                                  Team    L3    L5   L10   ALL Position\n",
      "0             EA7 Emporio Armani Milan  14.3  13.9  11.6  12.7    Guard\n",
      "1             Virtus Segafredo Bologna  14.4  13.5  12.8  12.5    Guard\n",
      "2                         FC Barcelona  13.0  12.7  12.2  12.4    Guard\n",
      "3             Baskonia Vitoria-Gasteiz  12.7  13.3  13.0  12.3    Guard\n",
      "4                          Real Madrid  10.6  10.9  11.6  12.1    Guard\n",
      "5            Maccabi Playtika Tel Aviv  11.1  10.1  11.8  12.0    Guard\n",
      "6                          ALBA Berlin   6.5  11.2  11.4  11.9    Guard\n",
      "7              LDLC ASVEL Villeurbanne  11.2  12.1  11.3  11.8    Guard\n",
      "8             Fenerbahce Beko Istanbul  10.6  10.8  11.6  11.7    Guard\n",
      "9                     Paris Basketball  12.9  11.9  12.5  11.7    Guard\n",
      "10                    FC Bayern Munich  11.3  12.0  12.4  11.6    Guard\n",
      "11                     Zalgiris Kaunas   9.3  13.1  12.3  11.6    Guard\n",
      "12                  Olympiacos Piraeus  12.3  12.4  11.0  11.5    Guard\n",
      "13               Anadolu Efes Istanbul  11.4  10.6  11.6  11.1    Guard\n",
      "14  Crvena Zvezda Meridianbet Belgrade  11.9  11.9  10.2  10.8    Guard\n",
      "15       Partizan Mozzart Bet Belgrade  10.3  11.5  11.1  10.7    Guard\n",
      "16                           AS Monaco   8.4   9.2  10.8  10.7    Guard\n",
      "17          Panathinaikos AKTOR Athens  12.6  11.1  10.5  10.6    Guard\n",
      "18                    FC Bayern Munich  10.0   9.0  12.1  12.4  Forward\n",
      "19           Maccabi Playtika Tel Aviv  11.5  11.9  12.8  12.1  Forward\n",
      "20       Partizan Mozzart Bet Belgrade  12.5  11.0  11.5  12.1  Forward\n",
      "21          Panathinaikos AKTOR Athens  12.9  13.1  14.7  12.0  Forward\n",
      "22                         ALBA Berlin  12.9  11.5  11.7  11.8  Forward\n",
      "23                    Paris Basketball   9.8  12.2  11.2  11.6  Forward\n",
      "24                           AS Monaco  14.1  12.4  11.9  11.4  Forward\n",
      "25            Virtus Segafredo Bologna  10.2  10.1  10.2  11.1  Forward\n",
      "26            Baskonia Vitoria-Gasteiz  11.3  11.3  11.3  10.7  Forward\n",
      "27                         Real Madrid  11.3  12.2  11.0  10.5  Forward\n",
      "28             LDLC ASVEL Villeurbanne  10.0  10.3  10.2  10.5  Forward\n",
      "29                     Zalgiris Kaunas  13.0  10.7  12.0  10.5  Forward\n",
      "30                        FC Barcelona  14.1  12.9  11.3  10.4  Forward\n",
      "31            Fenerbahce Beko Istanbul  12.0  13.6  11.1  10.2  Forward\n",
      "32                  Olympiacos Piraeus   8.0   9.0  10.5  10.1  Forward\n",
      "33               Anadolu Efes Istanbul  11.9  12.6  11.1  10.1  Forward\n",
      "34            EA7 Emporio Armani Milan   7.4   8.6   9.5  10.0  Forward\n",
      "35  Crvena Zvezda Meridianbet Belgrade   7.0   7.5   8.9   9.4  Forward\n",
      "36  Crvena Zvezda Meridianbet Belgrade  11.0  10.0  12.6  12.1   Center\n",
      "37                    Paris Basketball  10.0   9.3  11.1  12.0   Center\n",
      "38             LDLC ASVEL Villeurbanne   6.3   8.2  10.8  11.2   Center\n",
      "39               Anadolu Efes Istanbul   6.0   6.3   6.3  11.1   Center\n",
      "40            EA7 Emporio Armani Milan   9.5   8.3  11.5  11.0   Center\n",
      "41                           AS Monaco  14.0  13.0  12.9  10.9   Center\n",
      "42            Baskonia Vitoria-Gasteiz   9.8  10.6  11.3  10.8   Center\n",
      "43          Panathinaikos AKTOR Athens  11.5  10.5  12.3  10.8   Center\n",
      "44                    FC Bayern Munich   8.0   8.7   7.7  10.6   Center\n",
      "45                         Real Madrid  16.0  11.6  12.1  10.6   Center\n",
      "46           Maccabi Playtika Tel Aviv  12.3  11.5   8.0  10.5   Center\n",
      "47                         ALBA Berlin   9.3   8.3   9.3  10.4   Center\n",
      "48       Partizan Mozzart Bet Belgrade   9.0  11.5  11.3  10.4   Center\n",
      "49            Virtus Segafredo Bologna   9.8  10.1  11.3  10.2   Center\n",
      "50                  Olympiacos Piraeus  12.0  11.4  10.2   9.9   Center\n",
      "51            Fenerbahce Beko Istanbul   5.8   6.2   6.3   9.8   Center\n",
      "52                     Zalgiris Kaunas   7.5  10.8   9.7   9.3   Center\n",
      "53                        FC Barcelona   4.5  10.5  10.0   9.1   Center\n"
     ]
    }
   ],
   "source": [
    "# ✅ Remove rows where any column contains None or NaN values\n",
    "defense_vs_position_df = df.dropna()\n",
    "\n",
    "# ✅ Reset index for cleaner display\n",
    "defense_vs_position_df = df.reset_index(drop=True)\n",
    "\n",
    "# ✅ Display cleaned DataFrame\n",
    "print(defense_vs_position_df)\n"
   ]
  },
  {
   "cell_type": "code",
   "execution_count": 17,
   "metadata": {},
   "outputs": [],
   "source": [
    "defense_vs_position_df.attrs[\"dataset_name\"] = \"EuroLeague_Defense_vs_Position\"\n",
    "defense_vs_position_df.attrs[\"description\"] = \"EuroLeague defensive statistics against different positions over multiple timeframes.\"\n",
    "defense_vs_position_df.attrs[\"source\"] = \"https://www.dunkest.com/en/euroleague/stats/teams/defense-vs-position/\"\n",
    "defense_vs_position_df.attrs[\"column_info\"] = {\n",
    "    \"Team\": \"Team name\",\n",
    "    \"L3\": \"Defense vs this position in the last 3 games\",\n",
    "    \"L5\": \"Defense vs this position in the last 5 games\",\n",
    "    \"L10\": \"Defense vs this position in the last 10 games\",\n",
    "    \"ALL\": \"Overall defense vs this position\",\n",
    "    \"Position\": \"Player position (Guard, Forward, Center)\"\n",
    "}\n"
   ]
  },
  {
   "cell_type": "code",
   "execution_count": 11,
   "metadata": {},
   "outputs": [
    {
     "name": "stdout",
     "output_type": "stream",
     "text": [
      "<html lang=\"hr\"><head>\n",
      "        <meta charset=\"utf-8\">\n",
      "        <title>Euroleague raspored - Košarka/Europa</title>\n",
      "        <script type=\"text/javascript\" async=\"\" src=\"https://www.googletagmanager.com/gtag/destination?id=AW-999393459&amp;cx=c&amp;gtm=45He52q0v71314122za200&amp;tag_exp=101732282~101732284~102067808~102482433~102539968~102558064~102587591~102605417~102640600~102643510~102717422~102732003\"></script><script type=\"text/javascript\" async=\"\" src=\"https://unpkg.com/web-vitals/dist/web-vi\n"
     ]
    }
   ],
   "source": [
    "\n",
    "\n",
    "options = Options()\n",
    "options.add_argument(\"user-agent=Mozilla/5.0 (Windows NT 10.0; Win64; x64) AppleWebKit/537.36 (KHTML, like Gecko) Chrome/110.0.0.0 Safari/537.36\")\n",
    "\n",
    "driver = webdriver.Chrome(service=Service(ChromeDriverManager().install()), options=options)\n",
    "\n",
    "url = \"https://www.rezultati.com/kosarka/europa/euroleague/raspored/\"\n",
    "driver.get(url)\n",
    "\n",
    "\n",
    "\n",
    "# ✅ Wait for JavaScript to load\n",
    "time.sleep(5)  # Adjust if needed\n",
    "\n",
    "# ✅ Parse the fully loaded page source\n",
    "soup = BeautifulSoup(driver.page_source, \"html.parser\")\n",
    "\n",
    "html_source = driver.page_source\n",
    "\n",
    "# ✅ Close Selenium (we now use only BeautifulSoup)\n",
    "driver.quit()\n",
    "\n",
    "print(html_source[:500])"
   ]
  },
  {
   "cell_type": "code",
   "execution_count": 64,
   "metadata": {},
   "outputs": [
    {
     "name": "stdout",
     "output_type": "stream",
     "text": [
      "⚠️ Skipping a row due to missing data.\n"
     ]
    }
   ],
   "source": [
    "\n",
    "\n",
    "# ✅ Find all match events\n",
    "matches = []\n",
    "for match_row in soup.find_all(\"div\", class_=\"event__match\"):\n",
    "    try:\n",
    "        date = match_row.find_previous(\"div\", class_=\"event__time\").text.strip()\n",
    "        home_team = match_row.find(\"div\", class_=\"event__participant--home\").text.strip()\n",
    "        away_team = match_row.find(\"div\", class_=\"event__participant--away\").text.strip()\n",
    "\n",
    "        matches.append([date, home_team, away_team])\n",
    "\n",
    "    except AttributeError:\n",
    "        print(\"⚠️ Skipping a row due to missing data.\")\n",
    "\n",
    "# ✅ Convert to Pandas DataFrame\n",
    "schedule_df = pd.DataFrame(matches, columns=[\"Date\", \"Home Team\", \"Away Team\"])\n",
    "\n",
    "import pandas as pd\n",
    "from datetime import datetime\n",
    "\n",
    "# ✅ Assume `schedule_df` is already loaded\n",
    "# Example: schedule_df = pd.read_csv(\"your_schedule_file.csv\") if loading from CSV\n",
    "\n",
    "# ✅ Function to convert date format\n",
    "def convert_date(date_str):\n",
    "    \"\"\"Convert 'dd.mm. HH:MM' to 'YYYY-MM-DD HH:MM' format (assuming 2025 as year).\"\"\"\n",
    "    try:\n",
    "        fixed_date_str = f\"{date_str} 2025\"  # Append year manually\n",
    "        dt = datetime.strptime(fixed_date_str, \"%d.%m. %H:%M %Y\")  # Parse with appended year\n",
    "        return dt  # Return as datetime object\n",
    "    except ValueError as e:\n",
    "        print(f\"⚠️ Error parsing date '{date_str}': {e}\")\n",
    "        return pd.NaT  # Return NaT (Not a Time) for failed conversions\n",
    "\n",
    "# ✅ Apply conversion to DataFrame\n",
    "schedule_df[\"Date\"] = schedule_df[\"Date\"].apply(convert_date)\n",
    "\n",
    "# ✅ Ensure `Date` column is in datetime format\n",
    "schedule_df[\"Date\"] = pd.to_datetime(schedule_df[\"Date\"])\n",
    "\n",
    "\n"
   ]
  },
  {
   "cell_type": "code",
   "execution_count": 65,
   "metadata": {},
   "outputs": [
    {
     "name": "stdout",
     "output_type": "stream",
     "text": [
      "                 Date          Home Team          Away Team\n",
      "0 2025-03-05 20:30:00           Baskonia    Zalgiris Kaunas\n",
      "1 2025-03-06 20:30:00             Bayern      Crvena zvezda\n",
      "2 2025-03-06 20:30:00             Milano         Fenerbahce\n",
      "3 2025-03-06 20:30:00      Panathinaikos        Real Madrid\n",
      "4 2025-03-06 20:45:00       Anadolu Efes     Virtus Bologna\n",
      "5 2025-03-07 18:30:00  Lyon-Villeurbanne   Maccabi Tel Aviv\n",
      "6 2025-03-07 20:00:00         Olympiakos           Partizan\n",
      "7 2025-03-07 20:15:00        Alba Berlin          Barcelona\n",
      "8 2025-03-07 20:30:00         Fenerbahce  Lyon-Villeurbanne\n",
      "9 2025-03-13 18:45:00      Crvena zvezda             Milano\n"
     ]
    }
   ],
   "source": [
    "print(schedule_df[:10])"
   ]
  },
  {
   "cell_type": "code",
   "execution_count": 66,
   "metadata": {},
   "outputs": [
    {
     "name": "stdout",
     "output_type": "stream",
     "text": [
      "{'dataset_name': 'EuroLeague_Schedule', 'description': 'This dataset contains the EuroLeague basketball schedule, including match dates, home teams, and away teams.', 'source': 'https://www.rezultati.com/kosarka/europa/euroleague/raspored/', 'last_updated': Timestamp('2025-03-04 13:44:01.744265'), 'columns': {'Date': 'The date of the match (DD.MM. format)', 'Home Team': 'The team playing at home', 'Away Team': 'The visiting team'}, 'usage': 'Use this dataset for retrieving match schedules and predicting team performance.'}\n"
     ]
    }
   ],
   "source": [
    "# ✅ Define metadata for the EuroLeague schedule DataFrame\n",
    "schedule_df.attrs = {\n",
    "    \"dataset_name\": \"EuroLeague_Schedule\",\n",
    "    \"description\": \"This dataset contains the EuroLeague basketball schedule, including match dates, home teams, and away teams.\",\n",
    "    \"source\": \"https://www.rezultati.com/kosarka/europa/euroleague/raspored/\",\n",
    "    \"last_updated\": pd.Timestamp.now(),  # ✅ Automatically sets the current timestamp\n",
    "    \"columns\": {\n",
    "        \"Date\": \"The date of the match (DD.MM. format)\",\n",
    "        \"Home Team\": \"The team playing at home\",\n",
    "        \"Away Team\": \"The visiting team\",\n",
    "    },\n",
    "    \"usage\": \"Use this dataset for retrieving match schedules and predicting team performance.\",\n",
    "}\n",
    "\n",
    "# ✅ Print the metadata to verify\n",
    "print(schedule_df.attrs)\n"
   ]
  },
  {
   "cell_type": "code",
   "execution_count": 68,
   "metadata": {},
   "outputs": [
    {
     "name": "stdout",
     "output_type": "stream",
     "text": [
      "✅ 116 documents saved to 'rag_documents.json' with metadata!\n"
     ]
    }
   ],
   "source": [
    "schedule_df[\"Date\"] = schedule_df[\"Date\"].dt.strftime(\"%Y-%m-%d %H:%M\")\n",
    "\n",
    "\n",
    "from langchain.schema import Document\n",
    "import json\n",
    "\n",
    "# ✅ Convert schedule DataFrame to documents\n",
    "schedule_documents = [\n",
    "    Document(\n",
    "        page_content=f\"{row['Home Team']} vs {row['Away Team']} on {row['Date']}\",\n",
    "        metadata={\n",
    "            \"type\": \"schedule\",\n",
    "            \"date\": row[\"Date\"],\n",
    "            \"home_team\": row[\"Home Team\"],\n",
    "            \"away_team\": row[\"Away Team\"],\n",
    "        }\n",
    "    )\n",
    "    for _, row in schedule_df.iterrows()\n",
    "]\n",
    "\n",
    "# ✅ Convert defense stats DataFrame to documents\n",
    "defense_documents = [\n",
    "    Document(\n",
    "        page_content=f\"{row['Team']} allows {row['ALL']} fantasy points to {row['Position']}\",\n",
    "        metadata={\n",
    "            \"type\": \"defense_stats\",\n",
    "            \"team\": row[\"Team\"],\n",
    "            \"L3\": row[\"L3\"],\n",
    "            \"L5\": row[\"L5\"],\n",
    "            \"L10\": row[\"L10\"],\n",
    "            \"ALL\": row[\"ALL\"],\n",
    "            \"position\": row[\"Position\"],\n",
    "        }\n",
    "    )\n",
    "    for _, row in defense_vs_position_df.iterrows()\n",
    "]\n",
    "\n",
    "# ✅ Combine both datasets into one list\n",
    "all_documents = schedule_documents + defense_documents\n",
    "\n",
    "# ✅ Store metadata from .attrs separately\n",
    "metadata_info = {\n",
    "    \"schedule_metadata\": {\n",
    "        \"dataset_name\": schedule_df.attrs.get(\"dataset_name\", \"EuroLeague_Schedule\"),\n",
    "        \"description\": schedule_df.attrs.get(\"description\", \"Schedule for EuroLeague games\"),\n",
    "        \"source\": schedule_df.attrs.get(\"source\", \"https://www.rezultati.com/kosarka/europa/euroleague/raspored/\"),\n",
    "        \"columns\": list(schedule_df.columns),\n",
    "    },\n",
    "    \"defense_metadata\": {\n",
    "        \"dataset_name\": defense_vs_position_df.attrs.get(\"dataset_name\", \"EuroLeague_Defense_vs_Position\"),\n",
    "        \"description\": defense_vs_position_df.attrs.get(\"description\", \"Defensive stats against different positions\"),\n",
    "        \"source\": defense_vs_position_df.attrs.get(\"source\", \"https://www.dunkest.com/en/euroleague/stats/teams/defense-vs-position/\"),\n",
    "        \"columns\": list(defense_vs_position_df.columns),\n",
    "    },\n",
    "}\n",
    "\n",
    "# ✅ Convert documents to JSON format\n",
    "documents_json = [\n",
    "    {\"content\": doc.page_content, \"metadata\": doc.metadata} for doc in all_documents\n",
    "]\n",
    "\n",
    "# ✅ Combine documents and metadata into a single JSON file\n",
    "final_data = {\n",
    "    \"documents\": documents_json,\n",
    "    \"metadata\": metadata_info\n",
    "}\n",
    "\n",
    "# ✅ Save to a single JSON file\n",
    "with open(\"rag_documents.json\", \"w\", encoding=\"utf-8\") as f:\n",
    "    json.dump(final_data, f, indent=4)\n",
    "\n",
    "print(f\"✅ {len(all_documents)} documents saved to 'rag_documents.json' with metadata!\")\n"
   ]
  },
  {
   "cell_type": "code",
   "execution_count": 69,
   "metadata": {},
   "outputs": [
    {
     "name": "stdout",
     "output_type": "stream",
     "text": [
      "Loaded 116 documents\n",
      "📌 Sample document: page_content='Baskonia vs Zalgiris Kaunas on 2025-03-05 20:30' metadata={'type': 'schedule', 'date': '2025-03-05 20:30', 'home_team': 'Baskonia', 'away_team': 'Zalgiris Kaunas'}\n"
     ]
    }
   ],
   "source": [
    "with open(\"rag_documents.json\", \"r\", encoding=\"utf-8\") as f:\n",
    "    data = json.load(f)\n",
    "\n",
    "documents = [\n",
    "    Document(page_content=doc[\"content\"], metadata=doc[\"metadata\"]) for doc in data[\"documents\"]\n",
    "]\n",
    "\n",
    "print(f\"Loaded {len(documents)} documents\")\n",
    "print(\"📌 Sample document:\", documents[0])"
   ]
  },
  {
   "cell_type": "code",
   "execution_count": null,
   "metadata": {},
   "outputs": [
    {
     "name": "stdout",
     "output_type": "stream",
     "text": [
      "✅ JSON file updated successfully!\n"
     ]
    }
   ],
   "source": []
  },
  {
   "cell_type": "code",
   "execution_count": 70,
   "metadata": {},
   "outputs": [
    {
     "name": "stdout",
     "output_type": "stream",
     "text": [
      "Total chunked documents: 116\n",
      "📌 Sample chunked document: page_content='Baskonia vs Zalgiris Kaunas on 2025-03-05 20:30' metadata={'type': 'schedule', 'date': '2025-03-05 20:30', 'home_team': 'Baskonia', 'away_team': 'Zalgiris Kaunas'}\n"
     ]
    }
   ],
   "source": [
    "from langchain.text_splitter import RecursiveCharacterTextSplitter\n",
    "\n",
    "# ✅ Define a chunking strategy (split at 200 characters, with 20 overlap)\n",
    "text_splitter = RecursiveCharacterTextSplitter(\n",
    "    chunk_size=200, chunk_overlap=20, separators=[\" \", \"\\n\"]\n",
    ")\n",
    "\n",
    "# ✅ Apply chunking while preserving metadata\n",
    "chunked_documents = []\n",
    "for doc in documents:\n",
    "    chunks = text_splitter.split_text(doc.page_content)\n",
    "    for chunk in chunks:\n",
    "        chunked_documents.append(Document(page_content=chunk, metadata=doc.metadata))  # Preserve metadata\n",
    "\n",
    "# ✅ Check the results\n",
    "print(f\"Total chunked documents: {len(chunked_documents)}\")\n",
    "print(\"📌 Sample chunked document:\", chunked_documents[0])\n"
   ]
  },
  {
   "cell_type": "code",
   "execution_count": 71,
   "metadata": {},
   "outputs": [],
   "source": [
    "from langchain_community.embeddings import HuggingFaceEmbeddings\n",
    "\n",
    "# ✅ Initialize embedding model\n",
    "embedding_model = HuggingFaceEmbeddings(\n",
    "    model_name=\"Alibaba-NLP/gte-large-en-v1.5\",\n",
    "    model_kwargs={\"trust_remote_code\": True}  # 👈 Add this line\n",
    ")\n",
    "# ✅ Test the embedding model\n",
    "test_text = \"Real Madrid vs Barcelona on 15th March\"\n",
    "vector = embedding_model.embed_query(test_text)\n"
   ]
  },
  {
   "cell_type": "code",
   "execution_count": 72,
   "metadata": {},
   "outputs": [],
   "source": [
    "from langchain_community.vectorstores import Chroma\n",
    "\n",
    "# ✅ Initialize ChromaDB (local storage)\n",
    "vectorstore = Chroma(collection_name=\"euroleague_rag\", embedding_function=embedding_model)\n"
   ]
  },
  {
   "cell_type": "code",
   "execution_count": 73,
   "metadata": {},
   "outputs": [
    {
     "name": "stdout",
     "output_type": "stream",
     "text": [
      "✅ 116 documents stored in ChromaDB!\n"
     ]
    }
   ],
   "source": [
    "# ✅ Store documents in ChromaDB\n",
    "vectorstore.add_documents(chunked_documents)\n",
    "\n",
    "print(f\"✅ {len(chunked_documents)} documents stored in ChromaDB!\")\n"
   ]
  },
  {
   "cell_type": "code",
   "execution_count": 95,
   "metadata": {},
   "outputs": [
    {
     "name": "stdout",
     "output_type": "stream",
     "text": [
      "🔍 Unique relevant documents: 50\n",
      "🔍 Found 50 relevant documents\n",
      "Match Info: Paris Basketball allows 12.0 fantasy points to Center | ALL: 12.0, L10: 11.1, L3: 10.0, L5: 9.3, position: Center, team: Paris Basketball, type: defense_stats\n",
      "Match Info: Zalgiris Kaunas allows 9.3 fantasy points to Center | ALL: 9.3, L10: 9.7, L3: 7.5, L5: 10.8, position: Center, team: Zalgiris Kaunas, type: defense_stats\n",
      "Match Info: Maccabi Playtika Tel Aviv allows 10.5 fantasy points to Center | ALL: 10.5, L10: 8.0, L3: 12.3, L5: 11.5, position: Center, team: Maccabi Playtika Tel Aviv, type: defense_stats\n",
      "Match Info: FC Barcelona allows 9.1 fantasy points to Center | ALL: 9.1, L10: 10.0, L3: 4.5, L5: 10.5, position: Center, team: FC Barcelona, type: defense_stats\n",
      "Match Info: Olympiacos Piraeus allows 9.9 fantasy points to Center | ALL: 9.9, L10: 10.2, L3: 12.0, L5: 11.4, position: Center, team: Olympiacos Piraeus, type: defense_stats\n",
      "Match Info: Panathinaikos AKTOR Athens allows 10.8 fantasy points to Center | ALL: 10.8, L10: 12.3, L3: 11.5, L5: 10.5, position: Center, team: Panathinaikos AKTOR Athens, type: defense_stats\n",
      "Match Info: FC Bayern Munich allows 10.6 fantasy points to Center | ALL: 10.6, L10: 7.7, L3: 8.0, L5: 8.7, position: Center, team: FC Bayern Munich, type: defense_stats\n",
      "Match Info: FC Barcelona allows 12.4 fantasy points to Guard | ALL: 12.4, L10: 12.2, L3: 13.0, L5: 12.7, position: Guard, team: FC Barcelona, type: defense_stats\n",
      "Match Info: Fenerbahce Beko Istanbul allows 9.8 fantasy points to Center | ALL: 9.8, L10: 6.3, L3: 5.8, L5: 6.2, position: Center, team: Fenerbahce Beko Istanbul, type: defense_stats\n",
      "Match Info: ALBA Berlin allows 10.4 fantasy points to Center | ALL: 10.4, L10: 9.3, L3: 9.3, L5: 8.3, position: Center, team: ALBA Berlin, type: defense_stats\n",
      "Match Info: Zalgiris Kaunas allows 11.6 fantasy points to Guard | ALL: 11.6, L10: 12.3, L3: 9.3, L5: 13.1, position: Guard, team: Zalgiris Kaunas, type: defense_stats\n",
      "Match Info: FC Bayern Munich allows 11.6 fantasy points to Guard | ALL: 11.6, L10: 12.4, L3: 11.3, L5: 12.0, position: Guard, team: FC Bayern Munich, type: defense_stats\n",
      "Match Info: Olympiacos Piraeus allows 11.5 fantasy points to Guard | ALL: 11.5, L10: 11.0, L3: 12.3, L5: 12.4, position: Guard, team: Olympiacos Piraeus, type: defense_stats\n",
      "Match Info: Maccabi Playtika Tel Aviv allows 12.0 fantasy points to Guard | ALL: 12.0, L10: 11.8, L3: 11.1, L5: 10.1, position: Guard, team: Maccabi Playtika Tel Aviv, type: defense_stats\n",
      "Match Info: Fenerbahce Beko Istanbul allows 11.7 fantasy points to Guard | ALL: 11.7, L10: 11.6, L3: 10.6, L5: 10.8, position: Guard, team: Fenerbahce Beko Istanbul, type: defense_stats\n",
      "Match Info: Baskonia Vitoria-Gasteiz allows 10.8 fantasy points to Center | ALL: 10.8, L10: 11.3, L3: 9.8, L5: 10.6, position: Center, team: Baskonia Vitoria-Gasteiz, type: defense_stats\n",
      "Match Info: Paris Basketball allows 11.7 fantasy points to Guard | ALL: 11.7, L10: 12.5, L3: 12.9, L5: 11.9, position: Guard, team: Paris Basketball, type: defense_stats\n",
      "Match Info: Real Madrid allows 10.6 fantasy points to Center | ALL: 10.6, L10: 12.1, L3: 16.0, L5: 11.6, position: Center, team: Real Madrid, type: defense_stats\n",
      "Match Info: Panathinaikos AKTOR Athens allows 10.6 fantasy points to Guard | ALL: 10.6, L10: 10.5, L3: 12.6, L5: 11.1, position: Guard, team: Panathinaikos AKTOR Athens, type: defense_stats\n",
      "Match Info: ALBA Berlin allows 11.9 fantasy points to Guard | ALL: 11.9, L10: 11.4, L3: 6.5, L5: 11.2, position: Guard, team: ALBA Berlin, type: defense_stats\n",
      "Match Info: Zalgiris Kaunas allows 10.5 fantasy points to Forward | ALL: 10.5, L10: 12.0, L3: 13.0, L5: 10.7, position: Forward, team: Zalgiris Kaunas, type: defense_stats\n",
      "Match Info: Real Madrid allows 12.1 fantasy points to Guard | ALL: 12.1, L10: 11.6, L3: 10.6, L5: 10.9, position: Guard, team: Real Madrid, type: defense_stats\n",
      "Match Info: Virtus Segafredo Bologna allows 10.2 fantasy points to Center | ALL: 10.2, L10: 11.3, L3: 9.8, L5: 10.1, position: Center, team: Virtus Segafredo Bologna, type: defense_stats\n",
      "Match Info: Anadolu Efes Istanbul allows 11.1 fantasy points to Guard | ALL: 11.1, L10: 11.6, L3: 11.4, L5: 10.6, position: Guard, team: Anadolu Efes Istanbul, type: defense_stats\n",
      "Match Info: Anadolu Efes Istanbul allows 11.1 fantasy points to Center | ALL: 11.1, L10: 6.3, L3: 6.0, L5: 6.3, position: Center, team: Anadolu Efes Istanbul, type: defense_stats\n",
      "Match Info: LDLC ASVEL Villeurbanne allows 11.2 fantasy points to Center | ALL: 11.2, L10: 10.8, L3: 6.3, L5: 8.2, position: Center, team: LDLC ASVEL Villeurbanne, type: defense_stats\n",
      "Match Info: Baskonia Vitoria-Gasteiz allows 12.3 fantasy points to Guard | ALL: 12.3, L10: 13.0, L3: 12.7, L5: 13.3, position: Guard, team: Baskonia Vitoria-Gasteiz, type: defense_stats\n",
      "Match Info: AS Monaco allows 10.7 fantasy points to Guard | ALL: 10.7, L10: 10.8, L3: 8.4, L5: 9.2, position: Guard, team: AS Monaco, type: defense_stats\n",
      "Match Info: Virtus Segafredo Bologna allows 12.5 fantasy points to Guard | ALL: 12.5, L10: 12.8, L3: 14.4, L5: 13.5, position: Guard, team: Virtus Segafredo Bologna, type: defense_stats\n",
      "Match Info: Paris Basketball allows 11.6 fantasy points to Forward | ALL: 11.6, L10: 11.2, L3: 9.8, L5: 12.2, position: Forward, team: Paris Basketball, type: defense_stats\n",
      "Match Info: Maccabi Playtika Tel Aviv allows 12.1 fantasy points to Forward | ALL: 12.1, L10: 12.8, L3: 11.5, L5: 11.9, position: Forward, team: Maccabi Playtika Tel Aviv, type: defense_stats\n",
      "Match Info: EA7 Emporio Armani Milan allows 11.0 fantasy points to Center | ALL: 11.0, L10: 11.5, L3: 9.5, L5: 8.3, position: Center, team: EA7 Emporio Armani Milan, type: defense_stats\n",
      "Match Info: LDLC ASVEL Villeurbanne allows 11.8 fantasy points to Guard | ALL: 11.8, L10: 11.3, L3: 11.2, L5: 12.1, position: Guard, team: LDLC ASVEL Villeurbanne, type: defense_stats\n",
      "Match Info: Crvena Zvezda Meridianbet Belgrade allows 10.8 fantasy points to Guard | ALL: 10.8, L10: 10.2, L3: 11.9, L5: 11.9, position: Guard, team: Crvena Zvezda Meridianbet Belgrade, type: defense_stats\n",
      "Match Info: EA7 Emporio Armani Milan allows 12.7 fantasy points to Guard | ALL: 12.7, L10: 11.6, L3: 14.3, L5: 13.9, position: Guard, team: EA7 Emporio Armani Milan, type: defense_stats\n",
      "Match Info: FC Barcelona allows 10.4 fantasy points to Forward | ALL: 10.4, L10: 11.3, L3: 14.1, L5: 12.9, position: Forward, team: FC Barcelona, type: defense_stats\n",
      "Match Info: Partizan Mozzart Bet Belgrade allows 10.4 fantasy points to Center | ALL: 10.4, L10: 11.3, L3: 9.0, L5: 11.5, position: Center, team: Partizan Mozzart Bet Belgrade, type: defense_stats\n",
      "Match Info: Olympiacos Piraeus allows 10.1 fantasy points to Forward | ALL: 10.1, L10: 10.5, L3: 8.0, L5: 9.0, position: Forward, team: Olympiacos Piraeus, type: defense_stats\n",
      "Match Info: Panathinaikos AKTOR Athens allows 12.0 fantasy points to Forward | ALL: 12.0, L10: 14.7, L3: 12.9, L5: 13.1, position: Forward, team: Panathinaikos AKTOR Athens, type: defense_stats\n",
      "Match Info: Crvena Zvezda Meridianbet Belgrade allows 12.1 fantasy points to Center | ALL: 12.1, L10: 12.6, L3: 11.0, L5: 10.0, position: Center, team: Crvena Zvezda Meridianbet Belgrade, type: defense_stats\n",
      "Match Info: FC Bayern Munich allows 12.4 fantasy points to Forward | ALL: 12.4, L10: 12.1, L3: 10.0, L5: 9.0, position: Forward, team: FC Bayern Munich, type: defense_stats\n",
      "Match Info: AS Monaco allows 10.9 fantasy points to Center | ALL: 10.9, L10: 12.9, L3: 14.0, L5: 13.0, position: Center, team: AS Monaco, type: defense_stats\n",
      "Match Info: Fenerbahce Beko Istanbul allows 10.2 fantasy points to Forward | ALL: 10.2, L10: 11.1, L3: 12.0, L5: 13.6, position: Forward, team: Fenerbahce Beko Istanbul, type: defense_stats\n",
      "Match Info: Partizan Mozzart Bet Belgrade allows 10.7 fantasy points to Guard | ALL: 10.7, L10: 11.1, L3: 10.3, L5: 11.5, position: Guard, team: Partizan Mozzart Bet Belgrade, type: defense_stats\n",
      "Match Info: Real Madrid allows 10.5 fantasy points to Forward | ALL: 10.5, L10: 11.0, L3: 11.3, L5: 12.2, position: Forward, team: Real Madrid, type: defense_stats\n",
      "Match Info: Baskonia Vitoria-Gasteiz allows 10.7 fantasy points to Forward | ALL: 10.7, L10: 11.3, L3: 11.3, L5: 11.3, position: Forward, team: Baskonia Vitoria-Gasteiz, type: defense_stats\n",
      "Match Info: Anadolu Efes Istanbul allows 10.1 fantasy points to Forward | ALL: 10.1, L10: 11.1, L3: 11.9, L5: 12.6, position: Forward, team: Anadolu Efes Istanbul, type: defense_stats\n",
      "Match Info: Virtus Segafredo Bologna allows 11.1 fantasy points to Forward | ALL: 11.1, L10: 10.2, L3: 10.2, L5: 10.1, position: Forward, team: Virtus Segafredo Bologna, type: defense_stats\n",
      "Match Info: ALBA Berlin allows 11.8 fantasy points to Forward | ALL: 11.8, L10: 11.7, L3: 12.9, L5: 11.5, position: Forward, team: ALBA Berlin, type: defense_stats\n",
      "Match Info: EA7 Emporio Armani Milan allows 10.0 fantasy points to Forward | ALL: 10.0, L10: 9.5, L3: 7.4, L5: 8.6, position: Forward, team: EA7 Emporio Armani Milan, type: defense_stats\n"
     ]
    }
   ],
   "source": [
    "# ✅ Initialize retriever\n",
    "retriever = vectorstore.as_retriever(search_kwargs={\"k\": 100})  # Top 5 results\n",
    "\n",
    "# ✅ Example query\n",
    "query = \"Which team has the best defence against centers?\"\n",
    "retrieved_docs = retriever.get_relevant_documents(query)\n",
    "\n",
    "# ✅ Remove duplicates based on `page_content`\n",
    "unique_docs = []\n",
    "seen_texts = set()\n",
    "\n",
    "for doc in retrieved_docs:\n",
    "    if doc.page_content not in seen_texts:\n",
    "        unique_docs.append(doc)\n",
    "        seen_texts.add(doc.page_content)\n",
    "\n",
    "retrieved_docs = unique_docs  # Use only unique documents\n",
    "print(f\"🔍 Unique relevant documents: {len(retrieved_docs)}\")\n",
    "\n",
    "\n",
    "print(f\"🔍 Found {len(retrieved_docs)} relevant documents\")\n",
    "\n",
    "\n",
    "def format_doc(doc):\n",
    "    \"\"\"Dynamically format retrieved documents with all metadata.\"\"\"\n",
    "    metadata_info = \", \".join(f\"{k}: {v}\" for k, v in doc.metadata.items())\n",
    "    return f\"Match Info: {doc.page_content.strip()} | {metadata_info}\"\n",
    "\n",
    "retrieved_text = \"\\n\".join(format_doc(doc) for doc in retrieved_docs)\n",
    "print(retrieved_text)\n",
    "  \n",
    "    "
   ]
  },
  {
   "cell_type": "code",
   "execution_count": 93,
   "metadata": {},
   "outputs": [
    {
     "name": "stdout",
     "output_type": "stream",
     "text": [
      "Unique documents: 25 / 50\n"
     ]
    }
   ],
   "source": [
    "# Check unique documents count\n",
    "unique_page_content = set(doc.page_content for doc in retrieved_docs)\n",
    "print(f\"Unique documents: {len(unique_page_content)} / {len(retrieved_docs)}\")\n"
   ]
  },
  {
   "cell_type": "code",
   "execution_count": 90,
   "metadata": {},
   "outputs": [
    {
     "name": "stdout",
     "output_type": "stream",
     "text": [
      "🔍 Custom Response: Based on the provided data, Virtus Segafredo Bologna and Anadolu Efes Istanbul have the lowest average fantasy points allowed to centers, with 10.2 and 11.1, respectively.\n",
      "\n",
      "However, considering the context, it's essential to note that a lower number doesn't necessarily mean better defense. A team might allow fewer points but still struggle to limit the opponent's scoring effectiveness.\n",
      "\n",
      "If we consider only the lowest average fantasy points allowed to centers (which is the case here), Virtus Segafredo Bologna has the best defence against centers, with 10.2 fantasy points allowed on average.\n"
     ]
    }
   ],
   "source": [
    "from langchain.chains import RetrievalQA, StuffDocumentsChain\n",
    "from langchain_core.prompts import PromptTemplate\n",
    "from langchain.chains import LLMChain\n",
    "from langchain_community.llms import Ollama\n",
    "\n",
    "# ✅ Initialize LLM (Ollama)\n",
    "llm = Ollama(model=\"llama3.2\", base_url=\"http://localhost:11434\")\n",
    "\n",
    "# ✅ Define a prompt to structure retrieved documents\n",
    "qa_prompt = PromptTemplate.from_template(\n",
    "    \"You are an expert in EuroLeague basketball. Use ONLY the provided documents to answer the question.\\n\\n\"\n",
    "    \"Retrieved Documents:\\n\"\n",
    "    \"{context}\\n\\n\"\n",
    "    \"Question: {question}\\n\\n\"\n",
    "    \"Instructions:\\n\"\n",
    "    \"1. Consider ALL listed matches when answering.\\n\"\n",
    "    \n",
    "    \"3. If the context does not contain enough data, reply: 'I do not have enough information.'\\n\"\n",
    "    \"Answer:\"\n",
    ")\n",
    "\n",
    "# ✅ Create prompt manually\n",
    "prompt = qa_prompt.format(context=retrieved_text, question=query)\n",
    "\n",
    "# ✅ Generate response directly from LLM\n",
    "response = llm(prompt)\n",
    "\n",
    "print(\"🔍 Custom Response:\", response)\n",
    "\n",
    "# # ✅ Create document combining chain\n",
    "# combine_documents_chain = StuffDocumentsChain(\n",
    "#     llm_chain=LLMChain(llm=llm, prompt=qa_prompt),\n",
    "#     document_variable_name=\"context\"\n",
    "# )\n",
    "\n",
    "# # ✅ Create the RetrievalQA pipeline\n",
    "# qa_chain = RetrievalQA(\n",
    "#     retriever=retriever,\n",
    "#     combine_documents_chain=combine_documents_chain\n",
    "# )\n",
    "\n",
    "# # ✅ Ask a question\n",
    "# query = \"Who is Real Madrid playing in the next 7 matches?\"\n",
    "# response = qa_chain.invoke(query)\n"
   ]
  },
  {
   "cell_type": "code",
   "execution_count": 92,
   "metadata": {},
   "outputs": [
    {
     "name": "stdout",
     "output_type": "stream",
     "text": [
      "🔍 Custom Response: Based on the provided data, I've analyzed the matches for each team to determine which teams have the hardest match for guards.\n",
      "\n",
      "The top two teams with the hardest match for guards are:\n",
      "\n",
      "1. EA7 Emporio Armani Milan:\n",
      "\t* Their guard has a score of 12.7 in ALL matches.\n",
      "\t* The difference between their guard's score and the highest guard score is significant (13.9 - 12.7 = 1.2).\n",
      "\t* This indicates that their guards are among the best performers, making it challenging for them to face opponents with stronger guards.\n",
      "2. Paris Basketball:\n",
      "\t* Their center has a score of 12.0 in ALL matches.\n",
      "\t* Although not directly comparing guard scores, this high center score suggests that Paris Basketball might have strong overall team performance, including their guards, which could make it harder for guards from other teams to match up against them.\n",
      "\n",
      "These two teams appear to have the hardest match for guards due to their strong overall team performance and the exceptional skills of their players. However, please note that this analysis is based on a limited dataset and might not be comprehensive or definitive.\n"
     ]
    }
   ],
   "source": [
    "query = \"Which teams have the hardest match for guards and why?\"\n",
    "\n",
    "retrieved_docs = retriever.get_relevant_documents(query)\n",
    "retrieved_text = \"\\n\".join(format_doc(doc) for doc in retrieved_docs)\n",
    "\n",
    "prompt = qa_prompt.format(context=retrieved_text, question=query)\n",
    "\n",
    "# ✅ Generate response directly from LLM\n",
    "response = llm(prompt)\n",
    "\n",
    "print(\"🔍 Custom Response:\", response)"
   ]
  }
 ],
 "metadata": {
  "kernelspec": {
   "display_name": ".venv",
   "language": "python",
   "name": "python3"
  },
  "language_info": {
   "codemirror_mode": {
    "name": "ipython",
    "version": 3
   },
   "file_extension": ".py",
   "mimetype": "text/x-python",
   "name": "python",
   "nbconvert_exporter": "python",
   "pygments_lexer": "ipython3",
   "version": "3.13.2"
  }
 },
 "nbformat": 4,
 "nbformat_minor": 2
}
